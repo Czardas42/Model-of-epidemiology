{
  "nbformat": 4,
  "nbformat_minor": 0,
  "metadata": {
    "colab": {
      "name": "Model of epidemiology.ipynb",
      "provenance": [],
      "private_outputs": true,
      "collapsed_sections": [
        "iMm0lfp-yKAC",
        "uSKVK5_25kvX"
      ]
    },
    "kernelspec": {
      "name": "python3",
      "display_name": "Python 3"
    }
  },
  "cells": [
    {
      "cell_type": "markdown",
      "metadata": {
        "id": "uTVqIqKW7dqT",
        "colab_type": "text"
      },
      "source": [
        "# 引入所需模块"
      ]
    },
    {
      "cell_type": "code",
      "metadata": {
        "id": "p1nCl9E0z8Pv",
        "colab_type": "code",
        "colab": {}
      },
      "source": [
        "import re\n",
        "import json\n",
        "import requests\n",
        "import numpy as np\n",
        "import scipy.integrate as spi\n",
        "import matplotlib.pyplot as plt"
      ],
      "execution_count": 0,
      "outputs": []
    },
    {
      "cell_type": "markdown",
      "metadata": {
        "id": "32q4QAZJDwU8",
        "colab_type": "text"
      },
      "source": [
        "## 获取丁香园数据计算治愈率、死亡率"
      ]
    },
    {
      "cell_type": "code",
      "metadata": {
        "id": "7oVoQOh0Dv7O",
        "colab_type": "code",
        "colab": {}
      },
      "source": [
        "url = 'https://3g.dxy.cn/newh5/view/pneumonia'\n",
        "\n",
        "response = requests.get(url)\n",
        "origin = json.loads(re.search(\n",
        "    r'window.getStatisticsService = ({.*?})', response.text, re.DOTALL).group(1))\n",
        "\n",
        "data['确诊'] = origin['confirmedCount']\n",
        "data['疑似'] = origin['suspectedCount']\n",
        "data['死亡'] = origin['deadCount']\n",
        "data['治愈'] = origin['curedCount']\n",
        "\n",
        "data\n",
        "\n",
        "cure_rate = data['治愈'] / data['确诊']\n",
        "death_rate = data['死亡'] / data['确诊']"
      ],
      "execution_count": 0,
      "outputs": []
    },
    {
      "cell_type": "markdown",
      "metadata": {
        "id": "iMm0lfp-yKAC",
        "colab_type": "text"
      },
      "source": [
        "## SI-Model\n",
        "\n",
        "> SI 模型非常简化，它说健康人一旦感染，就将终生具有传染性，典型的就是 HIV 或者是生化危机这样。\n",
        "\n",
        "S: Susceptibles，易感者，可能被感染的健康人\n",
        "\n",
        "I: The Infected，感染者，即患者\n",
        "\n",
        "β: 病毒传染给健康者的概率\n",
        "\n",
        "γ: 疾病治愈率（在 SI 模型中，疾病治愈为 0）\n",
        "\n",
        "INI: 初始状态下易感者与感染者的比例\n",
        "\n"
      ]
    },
    {
      "cell_type": "code",
      "metadata": {
        "id": "2ygjRO86x138",
        "colab_type": "code",
        "colab": {}
      },
      "source": [
        "class SI(object):\n",
        "    def __init__(self, beta=0.2586, T=150):\n",
        "        self.beta = beta\n",
        "        self.gamma = 0\n",
        "        self.I = 1e-6\n",
        "        self.S = 1 - self.I\n",
        "        self.T = T\n",
        "        self.INI = (self.S, self.I)\n",
        "        self.T_range = np.arange(0, self.T + 1)\n",
        "    \n",
        "    def calculate(self, prop, _):\n",
        "        Y = np.zeros(2)\n",
        "        X = prop\n",
        "        Y[0] = - self.beta * X[0] * X[1] + self.gamma * X[1] # 易感者\n",
        "        Y[1] = self.beta * X[0] * X[1] - self.gamma * X[1] # 感染者\n",
        "        return Y\n",
        "    \n",
        "    def plot(self):\n",
        "        RES = spi.odeint(self.calculate, self.INI, self.T_range)\n",
        "        plt.plot(RES[:,0],color = 'darkblue',label = 'Susceptibles',marker = '.')\n",
        "        plt.plot(RES[:,1],color = 'red',label = 'The Infected',marker = '.')\n",
        "        plt.title('SI Model')\n",
        "        plt.legend()\n",
        "        plt.xlabel('Day')\n",
        "        plt.ylabel('Proportion')\n",
        "        plt.show()"
      ],
      "execution_count": 0,
      "outputs": []
    },
    {
      "cell_type": "code",
      "metadata": {
        "id": "tE-TqVGP4A16",
        "colab_type": "code",
        "colab": {}
      },
      "source": [
        "SI_ = SI()\n",
        "SI_.plot()"
      ],
      "execution_count": 0,
      "outputs": []
    },
    {
      "cell_type": "markdown",
      "metadata": {
        "id": "uSKVK5_25kvX",
        "colab_type": "text"
      },
      "source": [
        "## SIS-Model\n",
        "\n",
        "> 有一些小病，感染者自己会恢复健康或者治好，典型的就是小感冒，人们会在 S 和 I 之间反复横跳。\n",
        "\n",
        "S: Susceptibles，易感者，可能被感染的健康人\n",
        "\n",
        "I: The Infected，感染者，即患者\n",
        "\n",
        "β: 病毒传染给健康者的概率\n",
        "\n",
        "γ: 疾病治愈率\n",
        "\n",
        "INI: 初始状态下易感者与感染者的比例\n",
        "\n"
      ]
    },
    {
      "cell_type": "code",
      "metadata": {
        "id": "upA-3mmq0YR-",
        "colab_type": "code",
        "colab": {}
      },
      "source": [
        "class SIS(object):\n",
        "    def __init__(self, beta=0.2586, gamma=0.018,T=150):\n",
        "        self.beta = beta\n",
        "        self.gamma = gamma\n",
        "        self.I = 1e-6\n",
        "        self.S = 1 - self.I\n",
        "        self.T = T\n",
        "        self.INI = (self.S, self.I)\n",
        "        self.T_range = np.arange(0, self.T + 1)\n",
        "    \n",
        "    def calculate(self, prop, _):\n",
        "        Y = np.zeros(2)\n",
        "        X = prop\n",
        "        Y[0] = - self.beta * X[0] * X[1] + self.gamma * X[1] # 易感者\n",
        "        Y[1] = self.beta * X[0] * X[1] - self.gamma * X[1] # 感染者\n",
        "        return Y\n",
        "    \n",
        "    def plot(self):\n",
        "        RES = spi.odeint(self.calculate, self.INI, self.T_range)\n",
        "        plt.plot(RES[:,0],color = 'darkblue',label = 'Susceptible',marker = '.')\n",
        "        plt.plot(RES[:,1],color = 'red',label = 'The Infected',marker = '.')\n",
        "        plt.title('SIS Model')\n",
        "        plt.legend()\n",
        "        plt.xlabel('Day')\n",
        "        plt.ylabel('Proportion')\n",
        "        plt.show()"
      ],
      "execution_count": 0,
      "outputs": []
    },
    {
      "cell_type": "code",
      "metadata": {
        "id": "NEKRZFhH5kRp",
        "colab_type": "code",
        "colab": {}
      },
      "source": [
        "SIS_ = SIS(gamma=cure_rate)\n",
        "SIS_.plot()"
      ],
      "execution_count": 0,
      "outputs": []
    },
    {
      "cell_type": "markdown",
      "metadata": {
        "id": "d6g-Z4I26b0T",
        "colab_type": "text"
      },
      "source": [
        "## SIR-Model\n",
        "\n",
        "> 易感者会不断变为感染者，而感染者又会不断治愈变成康复者，并且不再被感染\n",
        "\n",
        "S: Susceptibles，易感者，可能被感染的健康人\n",
        "\n",
        "I: The Infected，感染者，即患者\n",
        "\n",
        "R: The Recovered，康复者\n",
        "\n",
        "β: 病毒传染给健康者的概率\n",
        "\n",
        "γ: 疾病治愈率\n",
        "\n",
        "INI: 初始状态下易感者、感染者与治愈者的比例\n"
      ]
    },
    {
      "cell_type": "code",
      "metadata": {
        "id": "l3JhIIDw0duQ",
        "colab_type": "code",
        "colab": {}
      },
      "source": [
        "class SIR(object):\n",
        "    def __init__(self, beta=0.2586, gamma=0.018, T=150):\n",
        "        self.beta = beta\n",
        "        self.gamma = gamma\n",
        "        self.I = 1e-6\n",
        "        self.R = 1e-6 / 2\n",
        "        self.S = 1 - self.I - self.R\n",
        "        self.T = T\n",
        "        self.INI = (self.S, self.I, self.R)\n",
        "        self.T_range = np.arange(0, self.T + 1)\n",
        "    \n",
        "    def calculate(self, prop, _):\n",
        "        Y = np.zeros(3)\n",
        "        X = prop\n",
        "        Y[0] = - self.beta * X[0] * X[1] # 易感者\n",
        "        Y[1] = self.beta * X[0] * X[1] - self.gamma * X[1] # 感染者\n",
        "        Y[2] = self.gamma * X[1] # 治愈者\n",
        "        return Y\n",
        "    \n",
        "    def plot(self):\n",
        "        RES = spi.odeint(self.calculate, self.INI, self.T_range)\n",
        "        plt.plot(RES[:,0],color = 'darkblue',label = 'Susceptibles',marker = '.')\n",
        "        plt.plot(RES[:,1],color = 'red',label = 'The Infected',marker = '.')\n",
        "        plt.plot(RES[:,2],color = 'green',label = 'The Recovered',marker = '.')\n",
        "        plt.title('SIR Model')\n",
        "        plt.legend()\n",
        "        plt.xlabel('Day')\n",
        "        plt.ylabel('Proportion')\n",
        "        plt.show()"
      ],
      "execution_count": 0,
      "outputs": []
    },
    {
      "cell_type": "code",
      "metadata": {
        "id": "629Rkfpv83yM",
        "colab_type": "code",
        "colab": {}
      },
      "source": [
        "SIR_ = SIR(gamma=cure_rate)\n",
        "SIR_.plot()"
      ],
      "execution_count": 0,
      "outputs": []
    },
    {
      "cell_type": "markdown",
      "metadata": {
        "id": "H0hhylE_9yE5",
        "colab_type": "text"
      },
      "source": [
        "## SEIR-Model\n",
        "\n",
        "> 复杂的病毒，健康的人感染后会先经历潜伏期，一段时间之后才会出现症状。\n",
        "\n",
        "S: Susceptibles，易感者，可能被感染的健康人\n",
        "\n",
        "E: The Exposed，潜伏者\n",
        "\n",
        "I: The Infected，感染者，即患者\n",
        "\n",
        "R: The Recovered，康复者\n",
        "\n",
        "β: 病毒传染给健康者的概率\n",
        "\n",
        "γ1: 潜伏期治愈率（假设为 0）\n",
        "\n",
        "γ2: 感染者治愈率\n",
        "\n",
        "α: 潜伏者转换为感染者的比例（假设为 1）\n",
        "\n",
        "INI: 初始状态下易感者、潜伏者、感染者、治愈者的比例\n"
      ]
    },
    {
      "cell_type": "code",
      "metadata": {
        "id": "tjclTM9M9qxj",
        "colab_type": "code",
        "colab": {}
      },
      "source": [
        "class SEIR(object):\n",
        "    def __init__(self, beta=0.2586, gamma_2=0.018, T=150):\n",
        "        self.beta = beta\n",
        "        self.gamma_1 = 0\n",
        "        self.gamma_2 = gamma_2\n",
        "        self.alpha = 1\n",
        "        self.I = 1e-6\n",
        "        self.E = self.I * 41\n",
        "        self.R = 1e-6 / 2\n",
        "        self.S = 1 - self.I - self.E - self.R\n",
        "        self.T = T\n",
        "        self.INI = (self.S, self.E, self.I, self.R)\n",
        "        self.T_range = np.arange(0, self.T + 1)\n",
        "    \n",
        "    def calculate(self, prop, _):\n",
        "        Y = np.zeros(4)\n",
        "        X = prop\n",
        "        Y[0] = - self.beta * X[0] * X[1] # 易感者\n",
        "        Y[1] = self.alpha * X[2] - self.gamma_2 * X[1] # 感染者\n",
        "        Y[2] = self.beta * X[0] * X[1] - (self.alpha + self.gamma_1) * X[2] # 潜伏者\n",
        "        Y[3] = self.gamma_1 * X[2] + self.gamma_2 * X[1] # 治愈者\n",
        "        return Y\n",
        "    \n",
        "    def plot(self):\n",
        "        RES = spi.odeint(self.calculate, self.INI, self.T_range)\n",
        "        plt.plot(RES[:,0],color = 'darkblue',label = 'Susceptibles',marker = '.')\n",
        "        plt.plot(RES[:,1],color = 'red',label = 'The Infected',marker = '.')\n",
        "        plt.plot(RES[:,2],color = 'orange',label = 'The Exposed',marker = '.')\n",
        "        plt.plot(RES[:,3],color = 'green',label = 'The Recovered',marker = '.')\n",
        "        plt.title('SEIR Model')\n",
        "        plt.legend()\n",
        "        plt.xlabel('Day')\n",
        "        plt.ylabel('Proportion')\n",
        "        plt.show()"
      ],
      "execution_count": 0,
      "outputs": []
    },
    {
      "cell_type": "code",
      "metadata": {
        "id": "wlaLkC88Bpep",
        "colab_type": "code",
        "colab": {}
      },
      "source": [
        "SEIR_ = SEIR(gamma_2=cure_rate)\n",
        "SEIR_.plot()"
      ],
      "execution_count": 0,
      "outputs": []
    },
    {
      "cell_type": "markdown",
      "metadata": {
        "id": "F1NEFqDMCngX",
        "colab_type": "text"
      },
      "source": [
        "## SEIR-Model（考虑死亡率）\n",
        "\n",
        "> 复杂的病毒，健康的人感染后会先经历潜伏期，一段时间之后才会出现症状。\n",
        "\n",
        "S: Susceptibles，易感者，可能被感染的健康人\n",
        "\n",
        "E: The Exposed，潜伏者\n",
        "\n",
        "I: The Infected，感染者，即患者\n",
        "\n",
        "R: The Recovered，康复者\n",
        "\n",
        "D: The Dead，死亡者\n",
        "\n",
        "β: 病毒传染给健康者的概率\n",
        "\n",
        "γ1: 潜伏期治愈率（假设为 0）\n",
        "\n",
        "γ2: 感染者治愈率\n",
        "\n",
        "α: 潜伏者转换为感染者的比例（假设为 1）\n",
        "\n",
        "INI: 初始状态下易感者、潜伏者、感染者、治愈者、死亡者的比例\n",
        "\n",
        "θ: 死亡率\n"
      ]
    },
    {
      "cell_type": "code",
      "metadata": {
        "id": "1VlG1nxlDbRB",
        "colab_type": "code",
        "colab": {}
      },
      "source": [
        "class SEIRD(object):\n",
        "    def __init__(self, beta=0.2586, gamma_2=0.018, theta=0.022, T=150):\n",
        "        self.beta = beta\n",
        "        self.gamma_1 = 0\n",
        "        self.gamma_2 = gamma_2\n",
        "        self.alpha = 1\n",
        "        self.theta = theta\n",
        "        self.I = 1e-6\n",
        "        self.E = self.I * 41\n",
        "        self.R = 1e-6 / 2\n",
        "        self.S = 1 - self.I - self.E - self.R\n",
        "        self.D = 0\n",
        "        self.T = T\n",
        "        self.INI = (self.S, self.E, self.I, self.R, self.D)\n",
        "        self.T_range = np.arange(0, self.T + 1)\n",
        "    \n",
        "    def calculate(self, prop, _):\n",
        "        Y = np.zeros(5)\n",
        "        X = prop\n",
        "        Y[0] = - self.beta * X[0] * X[1] # 易感者\n",
        "        Y[1] = self.alpha * X[2] - self.gamma_2 * X[1] - self.theta * X[1] # 感染者\n",
        "        Y[2] = self.beta * X[0] * X[1] - (self.alpha + self.gamma_1) * X[2] # 潜伏者\n",
        "        Y[3] = self.gamma_1 * X[2] + self.gamma_2 * X[1] # 治愈者\n",
        "        Y[4] = self.theta * X[1] # 死亡者\n",
        "        return Y\n",
        "    \n",
        "    def plot(self):\n",
        "        RES = spi.odeint(self.calculate, self.INI, self.T_range)\n",
        "        plt.plot(RES[:,0],color = 'darkblue',label = 'Susceptibles',marker = '.')\n",
        "        plt.plot(RES[:,1],color = 'red',label = 'The Infected',marker = '.')\n",
        "        plt.plot(RES[:,2],color = 'orange',label = 'The Exposed',marker = '.')\n",
        "        plt.plot(RES[:,3],color = 'green',label = 'The Recovered',marker = '.')\n",
        "        plt.plot(RES[:,4],color = 'black',label = 'The Dead',marker = '.')\n",
        "        plt.title('SEIRD')\n",
        "        plt.legend()\n",
        "        plt.xlabel('Day')\n",
        "        plt.ylabel('Proportion')\n",
        "        plt.show()"
      ],
      "execution_count": 0,
      "outputs": []
    },
    {
      "cell_type": "code",
      "metadata": {
        "id": "H-ug8nBzM7Jt",
        "colab_type": "code",
        "colab": {}
      },
      "source": [
        "SEIRD_ = SEIRD(gamma_2=cure_rate, theta=death_rate)\n",
        "SEIRD_.plot()"
      ],
      "execution_count": 0,
      "outputs": []
    }
  ]
}